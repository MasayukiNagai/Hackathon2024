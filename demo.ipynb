{
 "cells": [
  {
   "cell_type": "markdown",
   "metadata": {},
   "source": [
    "# Neural Networks for Sequence & Activity Data\n",
    "This notebook shows a basic pipeline to process input fasta and activity data, to train a Neural Network (NN), and make predictions for DNA sequence activities. \n",
    "\n",
    "The notebook is based on [DeepSTARR's demo notebook](https://github.com/bernardo-de-almeida/DeepSTARR/blob/main/DeepSTARR/Neural_Network_DNA_Demo/nn_for_sequence_data.ipynb)\n"
   ]
  },
  {
   "cell_type": "markdown",
   "metadata": {},
   "source": [
    "## Load Necessary Libraries\n",
    "\n"
   ]
  },
  {
   "cell_type": "code",
   "execution_count": 1,
   "metadata": {},
   "outputs": [],
   "source": [
    "import numpy as np\n",
    "\n",
    "from helper import IOHelper"
   ]
  },
  {
   "cell_type": "markdown",
   "metadata": {},
   "source": [
    "## Load the sequence and activity data"
   ]
  },
  {
   "cell_type": "code",
   "execution_count": 2,
   "metadata": {},
   "outputs": [],
   "source": [
    "fasta_path = './data/Accessibility_models_training_data/fold01_sequences_Val.fa.gz'\n",
    "activity_path = './data/Accessibility_models_training_data/fold01_sequences_activity_Val.txt.gz'\n",
    "\n",
    "input_sequence_data = IOHelper.get_fastas_from_file(fasta_path, uppercase=True)\n",
    "input_activity_data = IOHelper.get_activity_from_file(activity_path)"
   ]
  },
  {
   "cell_type": "code",
   "execution_count": 3,
   "metadata": {},
   "outputs": [
    {
     "name": "stdout",
     "output_type": "stream",
     "text": [
      "Shape of the sequence data: (95006,)\n",
      "Shape of the activity data: (95006, 18)\n"
     ]
    }
   ],
   "source": [
    "print(f'Shape of the sequence data: {input_sequence_data.shape}')\n",
    "print(f'Shape of the activity data: {input_activity_data.shape}')"
   ]
  },
  {
   "cell_type": "markdown",
   "metadata": {},
   "source": [
    "Convert the sequence data from strings into a one-hot encoding"
   ]
  },
  {
   "cell_type": "code",
   "execution_count": 4,
   "metadata": {},
   "outputs": [
    {
     "name": "stdout",
     "output_type": "stream",
     "text": [
      "Shape of the sequence one-hot: (95006, 1001, 4)\n"
     ]
    }
   ],
   "source": [
    "input_sequence_onehot = IOHelper.convert_one_hot(input_sequence_data)\n",
    "print(f'Shape of the sequence one-hot: {input_sequence_onehot.shape}')"
   ]
  }
 ],
 "metadata": {
  "kernelspec": {
   "display_name": "qb_env",
   "language": "python",
   "name": "python3"
  },
  "language_info": {
   "codemirror_mode": {
    "name": "ipython",
    "version": 3
   },
   "file_extension": ".py",
   "mimetype": "text/x-python",
   "name": "python",
   "nbconvert_exporter": "python",
   "pygments_lexer": "ipython3",
   "version": "3.11.5"
  }
 },
 "nbformat": 4,
 "nbformat_minor": 2
}
